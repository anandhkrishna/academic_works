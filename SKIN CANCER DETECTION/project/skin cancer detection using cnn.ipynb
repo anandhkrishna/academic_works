{
 "cells": [
  {
   "cell_type": "code",
   "execution_count": 2,
   "id": "7c895d86",
   "metadata": {},
   "outputs": [],
   "source": [
    "import os\n",
    "import pandas as pd\n",
    " \n",
    "from tensorflow.keras import layers\n",
    "from tensorflow.keras import Model\n",
    " \n",
    "from tensorflow.keras.applications.vgg16 import VGG16\n",
    " \n",
    " \n",
    "from tensorflow.keras.models import Model,Sequential\n",
    " \n",
    "from tensorflow.keras.layers import Flatten,Dense,Dropout,BatchNormalization\n",
    "from tensorflow.keras.optimizers import RMSprop , Adam , Adamax , Adadelta\n",
    "from tensorflow.keras.preprocessing.image import ImageDataGenerator\n",
    "import matplotlib.pyplot as plt\n",
    "import numpy as np\n",
    "from tensorflow.keras.preprocessing import image"
   ]
  },
  {
   "cell_type": "code",
   "execution_count": 3,
   "id": "e7248780",
   "metadata": {},
   "outputs": [],
   "source": [
    "pretrained_model = VGG16(input_shape=(224,224, 3), \n",
    "                              include_top=False,\n",
    "                              weights = 'imagenet')"
   ]
  },
  {
   "cell_type": "code",
   "execution_count": 4,
   "id": "c5f0d7ea",
   "metadata": {},
   "outputs": [
    {
     "name": "stdout",
     "output_type": "stream",
     "text": [
      "Requirement already satisfied: opendatasets in /media/anandhkrishna/asgard/mconda3/envs/myenv/lib/python3.6/site-packages (0.1.22)\n",
      "Requirement already satisfied: tqdm in /media/anandhkrishna/asgard/mconda3/envs/myenv/lib/python3.6/site-packages (from opendatasets) (4.64.0)\n",
      "Requirement already satisfied: kaggle in /media/anandhkrishna/asgard/mconda3/envs/myenv/lib/python3.6/site-packages (from opendatasets) (1.5.12)\n",
      "Requirement already satisfied: click in /media/anandhkrishna/asgard/mconda3/envs/myenv/lib/python3.6/site-packages (from opendatasets) (8.0.4)\n",
      "Requirement already satisfied: importlib-metadata in /media/anandhkrishna/asgard/mconda3/envs/myenv/lib/python3.6/site-packages (from click->opendatasets) (4.8.3)\n",
      "Requirement already satisfied: requests in /media/anandhkrishna/asgard/mconda3/envs/myenv/lib/python3.6/site-packages (from kaggle->opendatasets) (2.27.1)\n",
      "Requirement already satisfied: certifi in /media/anandhkrishna/asgard/mconda3/envs/myenv/lib/python3.6/site-packages (from kaggle->opendatasets) (2021.5.30)\n",
      "Requirement already satisfied: urllib3 in /media/anandhkrishna/asgard/mconda3/envs/myenv/lib/python3.6/site-packages (from kaggle->opendatasets) (1.26.9)\n",
      "Requirement already satisfied: six>=1.10 in /media/anandhkrishna/asgard/mconda3/envs/myenv/lib/python3.6/site-packages (from kaggle->opendatasets) (1.16.0)\n",
      "Requirement already satisfied: python-slugify in /media/anandhkrishna/asgard/mconda3/envs/myenv/lib/python3.6/site-packages (from kaggle->opendatasets) (6.1.1)\n",
      "Requirement already satisfied: python-dateutil in /media/anandhkrishna/asgard/mconda3/envs/myenv/lib/python3.6/site-packages (from kaggle->opendatasets) (2.8.2)\n",
      "Requirement already satisfied: importlib-resources in /media/anandhkrishna/asgard/mconda3/envs/myenv/lib/python3.6/site-packages (from tqdm->opendatasets) (5.4.0)\n",
      "Requirement already satisfied: typing-extensions>=3.6.4 in /media/anandhkrishna/asgard/mconda3/envs/myenv/lib/python3.6/site-packages (from importlib-metadata->click->opendatasets) (3.7.4.3)\n",
      "Requirement already satisfied: zipp>=0.5 in /media/anandhkrishna/asgard/mconda3/envs/myenv/lib/python3.6/site-packages (from importlib-metadata->click->opendatasets) (3.6.0)\n",
      "Requirement already satisfied: text-unidecode>=1.3 in /media/anandhkrishna/asgard/mconda3/envs/myenv/lib/python3.6/site-packages (from python-slugify->kaggle->opendatasets) (1.3)\n",
      "Requirement already satisfied: idna<4,>=2.5 in /media/anandhkrishna/asgard/mconda3/envs/myenv/lib/python3.6/site-packages (from requests->kaggle->opendatasets) (3.3)\n",
      "Requirement already satisfied: charset-normalizer~=2.0.0 in /media/anandhkrishna/asgard/mconda3/envs/myenv/lib/python3.6/site-packages (from requests->kaggle->opendatasets) (2.0.12)\n"
     ]
    }
   ],
   "source": [
    "!pip install opendatasets"
   ]
  },
  {
   "cell_type": "code",
   "execution_count": 7,
   "id": "6e5b0ac0",
   "metadata": {},
   "outputs": [],
   "source": [
    "import opendatasets as od"
   ]
  },
  {
   "cell_type": "code",
   "execution_count": 9,
   "id": "09775bb1",
   "metadata": {},
   "outputs": [
    {
     "name": "stdout",
     "output_type": "stream",
     "text": [
      "Please provide your Kaggle credentials to download this dataset. Learn more: http://bit.ly/kaggle-creds\n",
      "Your Kaggle username: jusutisu\n",
      "Your Kaggle Key: ········\n",
      "Downloading skin-cancer-malignant-vs-benign.zip to ./skin-cancer-malignant-vs-benign\n"
     ]
    },
    {
     "name": "stderr",
     "output_type": "stream",
     "text": [
      "100%|██████████| 325M/325M [02:03<00:00, 2.75MB/s] \n"
     ]
    },
    {
     "name": "stdout",
     "output_type": "stream",
     "text": [
      "\n"
     ]
    }
   ],
   "source": [
    "od.download(\"https://www.kaggle.com/datasets/fanconic/skin-cancer-malignant-vs-benign\")"
   ]
  },
  {
   "cell_type": "code",
   "execution_count": 4,
   "id": "9473b95a",
   "metadata": {},
   "outputs": [],
   "source": [
    "for layer in pretrained_model.layers:\n",
    "    layer.trainable = False"
   ]
  },
  {
   "cell_type": "code",
   "execution_count": 5,
   "id": "58ad63e9",
   "metadata": {},
   "outputs": [
    {
     "name": "stdout",
     "output_type": "stream",
     "text": [
      "Model: \"vgg16\"\n",
      "_________________________________________________________________\n",
      "Layer (type)                 Output Shape              Param #   \n",
      "=================================================================\n",
      "input_1 (InputLayer)         [(None, 224, 224, 3)]     0         \n",
      "_________________________________________________________________\n",
      "block1_conv1 (Conv2D)        (None, 224, 224, 64)      1792      \n",
      "_________________________________________________________________\n",
      "block1_conv2 (Conv2D)        (None, 224, 224, 64)      36928     \n",
      "_________________________________________________________________\n",
      "block1_pool (MaxPooling2D)   (None, 112, 112, 64)      0         \n",
      "_________________________________________________________________\n",
      "block2_conv1 (Conv2D)        (None, 112, 112, 128)     73856     \n",
      "_________________________________________________________________\n",
      "block2_conv2 (Conv2D)        (None, 112, 112, 128)     147584    \n",
      "_________________________________________________________________\n",
      "block2_pool (MaxPooling2D)   (None, 56, 56, 128)       0         \n",
      "_________________________________________________________________\n",
      "block3_conv1 (Conv2D)        (None, 56, 56, 256)       295168    \n",
      "_________________________________________________________________\n",
      "block3_conv2 (Conv2D)        (None, 56, 56, 256)       590080    \n",
      "_________________________________________________________________\n",
      "block3_conv3 (Conv2D)        (None, 56, 56, 256)       590080    \n",
      "_________________________________________________________________\n",
      "block3_pool (MaxPooling2D)   (None, 28, 28, 256)       0         \n",
      "_________________________________________________________________\n",
      "block4_conv1 (Conv2D)        (None, 28, 28, 512)       1180160   \n",
      "_________________________________________________________________\n",
      "block4_conv2 (Conv2D)        (None, 28, 28, 512)       2359808   \n",
      "_________________________________________________________________\n",
      "block4_conv3 (Conv2D)        (None, 28, 28, 512)       2359808   \n",
      "_________________________________________________________________\n",
      "block4_pool (MaxPooling2D)   (None, 14, 14, 512)       0         \n",
      "_________________________________________________________________\n",
      "block5_conv1 (Conv2D)        (None, 14, 14, 512)       2359808   \n",
      "_________________________________________________________________\n",
      "block5_conv2 (Conv2D)        (None, 14, 14, 512)       2359808   \n",
      "_________________________________________________________________\n",
      "block5_conv3 (Conv2D)        (None, 14, 14, 512)       2359808   \n",
      "_________________________________________________________________\n",
      "block5_pool (MaxPooling2D)   (None, 7, 7, 512)         0         \n",
      "=================================================================\n",
      "Total params: 14,714,688\n",
      "Trainable params: 0\n",
      "Non-trainable params: 14,714,688\n",
      "_________________________________________________________________\n"
     ]
    }
   ],
   "source": [
    "pretrained_model.summary()"
   ]
  },
  {
   "cell_type": "code",
   "execution_count": 6,
   "id": "55ec8d14",
   "metadata": {},
   "outputs": [],
   "source": [
    "x = layers.Flatten()(pretrained_model.output)\n",
    " \n",
    "x  = layers.Dense(4096 , activation='relu')(x)\n",
    "x  = layers.Dense(4096 , activation='relu')(x)\n",
    " \n",
    "   \n",
    "x = layers.Dense(2, activation='softmax')(x)"
   ]
  },
  {
   "cell_type": "code",
   "execution_count": 7,
   "id": "3d82a922",
   "metadata": {},
   "outputs": [],
   "source": [
    "model = Model(pretrained_model.input, x)"
   ]
  },
  {
   "cell_type": "code",
   "execution_count": 8,
   "id": "68cd61e9",
   "metadata": {},
   "outputs": [
    {
     "name": "stdout",
     "output_type": "stream",
     "text": [
      "Model: \"model\"\n",
      "_________________________________________________________________\n",
      "Layer (type)                 Output Shape              Param #   \n",
      "=================================================================\n",
      "input_1 (InputLayer)         [(None, 224, 224, 3)]     0         \n",
      "_________________________________________________________________\n",
      "block1_conv1 (Conv2D)        (None, 224, 224, 64)      1792      \n",
      "_________________________________________________________________\n",
      "block1_conv2 (Conv2D)        (None, 224, 224, 64)      36928     \n",
      "_________________________________________________________________\n",
      "block1_pool (MaxPooling2D)   (None, 112, 112, 64)      0         \n",
      "_________________________________________________________________\n",
      "block2_conv1 (Conv2D)        (None, 112, 112, 128)     73856     \n",
      "_________________________________________________________________\n",
      "block2_conv2 (Conv2D)        (None, 112, 112, 128)     147584    \n",
      "_________________________________________________________________\n",
      "block2_pool (MaxPooling2D)   (None, 56, 56, 128)       0         \n",
      "_________________________________________________________________\n",
      "block3_conv1 (Conv2D)        (None, 56, 56, 256)       295168    \n",
      "_________________________________________________________________\n",
      "block3_conv2 (Conv2D)        (None, 56, 56, 256)       590080    \n",
      "_________________________________________________________________\n",
      "block3_conv3 (Conv2D)        (None, 56, 56, 256)       590080    \n",
      "_________________________________________________________________\n",
      "block3_pool (MaxPooling2D)   (None, 28, 28, 256)       0         \n",
      "_________________________________________________________________\n",
      "block4_conv1 (Conv2D)        (None, 28, 28, 512)       1180160   \n",
      "_________________________________________________________________\n",
      "block4_conv2 (Conv2D)        (None, 28, 28, 512)       2359808   \n",
      "_________________________________________________________________\n",
      "block4_conv3 (Conv2D)        (None, 28, 28, 512)       2359808   \n",
      "_________________________________________________________________\n",
      "block4_pool (MaxPooling2D)   (None, 14, 14, 512)       0         \n",
      "_________________________________________________________________\n",
      "block5_conv1 (Conv2D)        (None, 14, 14, 512)       2359808   \n",
      "_________________________________________________________________\n",
      "block5_conv2 (Conv2D)        (None, 14, 14, 512)       2359808   \n",
      "_________________________________________________________________\n",
      "block5_conv3 (Conv2D)        (None, 14, 14, 512)       2359808   \n",
      "_________________________________________________________________\n",
      "block5_pool (MaxPooling2D)   (None, 7, 7, 512)         0         \n",
      "_________________________________________________________________\n",
      "flatten (Flatten)            (None, 25088)             0         \n",
      "_________________________________________________________________\n",
      "dense (Dense)                (None, 4096)              102764544 \n",
      "_________________________________________________________________\n",
      "dense_1 (Dense)              (None, 4096)              16781312  \n",
      "_________________________________________________________________\n",
      "dense_2 (Dense)              (None, 2)                 8194      \n",
      "=================================================================\n",
      "Total params: 134,268,738\n",
      "Trainable params: 119,554,050\n",
      "Non-trainable params: 14,714,688\n",
      "_________________________________________________________________\n"
     ]
    }
   ],
   "source": [
    "model.summary()"
   ]
  },
  {
   "cell_type": "code",
   "execution_count": 9,
   "id": "856a04a4",
   "metadata": {},
   "outputs": [],
   "source": [
    "model.compile(optimizer = Adam(learning_rate=0.0001),\n",
    "             loss='categorical_crossentropy',\n",
    "             metrics=['accuracy'])"
   ]
  },
  {
   "cell_type": "code",
   "execution_count": 10,
   "id": "e845b419",
   "metadata": {},
   "outputs": [],
   "source": [
    "train_dir=\"/home/anandhkrishna/Untitled Folder/skin-cancer-malignant-vs-benign/train\""
   ]
  },
  {
   "cell_type": "code",
   "execution_count": 11,
   "id": "8b2a4354",
   "metadata": {},
   "outputs": [],
   "source": [
    "train_datagen = ImageDataGenerator(\n",
    "         \n",
    "        rescale=1./255,\n",
    "         \n",
    "         \n",
    "        fill_mode = 'nearest',  \n",
    "        rotation_range=40,  \n",
    "         \n",
    "         \n",
    "        \n",
    "        horizontal_flip=0.5 \n",
    "         \n",
    "        \n",
    "       \n",
    "        )"
   ]
  },
  {
   "cell_type": "code",
   "execution_count": 12,
   "id": "d5b7a852",
   "metadata": {},
   "outputs": [],
   "source": [
    "cwd = os.getcwd()"
   ]
  },
  {
   "cell_type": "code",
   "execution_count": 13,
   "id": "e55bdd6e",
   "metadata": {},
   "outputs": [
    {
     "name": "stdout",
     "output_type": "stream",
     "text": [
      "/home/anandhkrishna/Untitled Folder\n"
     ]
    }
   ],
   "source": [
    "print(cwd)"
   ]
  },
  {
   "cell_type": "code",
   "execution_count": 14,
   "id": "034884de",
   "metadata": {},
   "outputs": [
    {
     "name": "stdout",
     "output_type": "stream",
     "text": [
      "Found 2109 images belonging to 2 classes.\n"
     ]
    }
   ],
   "source": [
    "train_generator = train_datagen.flow_from_directory(train_dir,\n",
    "                                                    batch_size=128,\n",
    "                                                   target_size=(224, 224),\n",
    "                                                    shuffle = True, \n",
    "                                                    \n",
    "                                                   class_mode='categorical' \n",
    "                                                    )"
   ]
  },
  {
   "cell_type": "code",
   "execution_count": 15,
   "id": "4feda825",
   "metadata": {},
   "outputs": [],
   "source": [
    "valid_data=\"/home/anandhkrishna/Untitled Folder/skin-cancer-malignant-vs-benign/valid\""
   ]
  },
  {
   "cell_type": "code",
   "execution_count": 16,
   "id": "d3d90f31",
   "metadata": {},
   "outputs": [
    {
     "name": "stdout",
     "output_type": "stream",
     "text": [
      "Found 288 images belonging to 2 classes.\n"
     ]
    }
   ],
   "source": [
    "valid_generator = train_datagen.flow_from_directory(valid_data,\n",
    "                                                    batch_size=128,\n",
    "                                                   target_size=(224, 224),\n",
    "                                                    shuffle = True, \n",
    "                                                    \n",
    "                                                   class_mode='categorical' \n",
    "                                                    )"
   ]
  },
  {
   "cell_type": "code",
   "execution_count": 17,
   "id": "a86664bb",
   "metadata": {},
   "outputs": [
    {
     "name": "stdout",
     "output_type": "stream",
     "text": [
      "Epoch 1/10\n",
      "17/17 [==============================] - 448s 26s/step - loss: 1.1562 - accuracy: 0.6183 - val_loss: 1.6266 - val_accuracy: 0.1215\n",
      "Epoch 2/10\n",
      "17/17 [==============================] - 448s 26s/step - loss: 0.4547 - accuracy: 0.7928 - val_loss: 2.1172 - val_accuracy: 0.1389\n",
      "Epoch 3/10\n",
      "17/17 [==============================] - 463s 27s/step - loss: 0.3956 - accuracy: 0.8189 - val_loss: 2.7628 - val_accuracy: 0.0938\n",
      "Epoch 4/10\n",
      "17/17 [==============================] - 464s 27s/step - loss: 0.3719 - accuracy: 0.8274 - val_loss: 2.2742 - val_accuracy: 0.1424\n",
      "Epoch 5/10\n",
      "17/17 [==============================] - 466s 27s/step - loss: 0.3503 - accuracy: 0.8393 - val_loss: 2.0576 - val_accuracy: 0.2431\n",
      "Epoch 6/10\n",
      "17/17 [==============================] - 467s 27s/step - loss: 0.3315 - accuracy: 0.8407 - val_loss: 2.3260 - val_accuracy: 0.2188\n",
      "Epoch 7/10\n",
      "17/17 [==============================] - 431s 26s/step - loss: 0.3138 - accuracy: 0.8516 - val_loss: 2.1472 - val_accuracy: 0.2743\n",
      "Epoch 8/10\n",
      "17/17 [==============================] - 369s 21s/step - loss: 0.3086 - accuracy: 0.8582 - val_loss: 2.3928 - val_accuracy: 0.2292\n",
      "Epoch 9/10\n",
      "17/17 [==============================] - 236s 14s/step - loss: 0.3039 - accuracy: 0.8559 - val_loss: 3.6051 - val_accuracy: 0.0833\n",
      "Epoch 10/10\n",
      "17/17 [==============================] - 235s 14s/step - loss: 0.2989 - accuracy: 0.8668 - val_loss: 2.4117 - val_accuracy: 0.2535\n"
     ]
    }
   ],
   "source": [
    "history = model.fit(train_generator,validation_data=valid_generator,\n",
    "                   epochs=10,\n",
    "                     \n",
    "                    batch_size = 128\n",
    "                    \n",
    "                  \n",
    "                   \n",
    "                  )"
   ]
  },
  {
   "cell_type": "code",
   "execution_count": 27,
   "id": "d4006e08",
   "metadata": {},
   "outputs": [],
   "source": [
    "model.save(\"Skin_cancer_vgg16.h5\")\n"
   ]
  },
  {
   "cell_type": "code",
   "execution_count": 18,
   "id": "59489c79",
   "metadata": {},
   "outputs": [],
   "source": [
    "import matplotlib.pyplot as plt"
   ]
  },
  {
   "cell_type": "code",
   "execution_count": 19,
   "id": "3eca2eed",
   "metadata": {},
   "outputs": [
    {
     "data": {
      "text/plain": [
       "[<matplotlib.lines.Line2D at 0x7f0f567e6588>]"
      ]
     },
     "execution_count": 19,
     "metadata": {},
     "output_type": "execute_result"
    },
    {
     "data": {
      "image/png": "[encoded data removed]",
      "text/plain": [
       "<Figure size 432x288 with 1 Axes>"
      ]
     },
     "metadata": {
      "needs_background": "light"
     },
     "output_type": "display_data"
    }
   ],
   "source": [
    "plt.plot(history.history['loss'])"
   ]
  },
  {
   "cell_type": "code",
   "execution_count": 20,
   "id": "1e545750",
   "metadata": {},
   "outputs": [],
   "source": [
    "labels = {\n",
    "    0 : \"benign\" , \n",
    "    1 : \"Malignant\"\n",
    "}"
   ]
  },
  {
   "cell_type": "code",
   "execution_count": 21,
   "id": "81401629",
   "metadata": {},
   "outputs": [],
   "source": [
    "path = \"/home/anandhkrishna/Untitled Folder/skin-cancer-malignant-vs-benign/test/benign/1013.jpg\""
   ]
  },
  {
   "cell_type": "code",
   "execution_count": 22,
   "id": "bde78f75",
   "metadata": {},
   "outputs": [],
   "source": [
    "img = image.load_img(path, target_size=(224, 224))\n",
    "x = image.img_to_array(img)/255\n",
    "x = np.expand_dims(x, axis=0)\n",
    "classes = model.predict([x])"
   ]
  },
  {
   "cell_type": "code",
   "execution_count": 23,
   "id": "ebe01ce6",
   "metadata": {},
   "outputs": [
    {
     "data": {
      "text/plain": [
       "array([0])"
      ]
     },
     "execution_count": 23,
     "metadata": {},
     "output_type": "execute_result"
    }
   ],
   "source": [
    "pred_labels = np.argmax(classes, axis = 1)\n",
    "pred_labels"
   ]
  },
  {
   "cell_type": "code",
   "execution_count": 24,
   "id": "f16c7737",
   "metadata": {},
   "outputs": [
    {
     "name": "stdout",
     "output_type": "stream",
     "text": [
      "benign\n"
     ]
    }
   ],
   "source": [
    "for i in pred_labels:\n",
    "    print(labels[i])"
   ]
  },
  {
   "cell_type": "code",
   "execution_count": null,
   "id": "f1bba889",
   "metadata": {},
   "outputs": [],
   "source": []
  }
 ],
 "metadata": {
  "kernelspec": {
   "display_name": "Python 3",
   "language": "python",
   "name": "python3"
  },
  "language_info": {
   "codemirror_mode": {
    "name": "ipython",
    "version": 3
   },
   "file_extension": ".py",
   "mimetype": "text/x-python",
   "name": "python",
   "nbconvert_exporter": "python",
   "pygments_lexer": "ipython3",
   "version": "3.6.13"
  }
 },
 "nbformat": 4,
 "nbformat_minor": 5
}
